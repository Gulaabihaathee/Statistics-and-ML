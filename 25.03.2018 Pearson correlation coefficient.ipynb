{
 "cells": [
  {
   "cell_type": "markdown",
   "metadata": {},
   "source": [
    "### Współczynnik korelacji Pearson'a.\n",
    "\n",
    "$$\\large \\rho_{X,Y} = \\frac{cov(X,\\ Y)}{\\sigma_X \\sigma_Y} = \\frac{E[(X-\\mu_X)(Y-\\mu_Y)]}{\\sqrt{E[(X-\\mu_X)^2]\\ }\\sqrt{E[(Y-\\mu_Y)^2]}} = \\frac{E[(X-E[X])(Y-E[Y])]}{\\sqrt{E[(X-\n",
    "E[X])^2]\\ }\\sqrt{E[(Y-E[Y])^2]}}$$\n"
   ]
  },
  {
   "cell_type": "markdown",
   "metadata": {},
   "source": [
    "$$\\large \\rho_{X,Y} = \\frac{E[XY]-E[X]E[Y]}{\\sqrt{E[X^2]-[E[X]]^2} \\sqrt{E[Y^2]-[E[Y]]^2}}$$"
   ]
  },
  {
   "cell_type": "markdown",
   "metadata": {},
   "source": [
    "### Dla dwóch skończonych zbiorów próbek $X = [x_1, ..., x_n]$, $Y = [y_1, ..., y_n]$:\n",
    "\n",
    "## $$\\rho_{X,Y} = \\frac{\\frac{\\sum_{i=1}^n (x_i - \\frac{\\sum_{i=1}^n x_i}{n})(y_i - \\frac{\\sum_{i=1}^n y_i}{n})}{n}}{\\sqrt{\\frac{\\sum_{i=1}^n (x_i - \\frac{\\sum_{i=1}^n x_i}{n})^2}{n}} \\sqrt{\\frac{\\sum_{i=1}^n (y_i - \\frac{\\sum_{i=1}^n y_i}{n})^2}{n}}} = \\frac{\\sum_{i=1}^n (x_i - \\bar{x})(y_i - \\bar{y})}{\\sqrt{\\sum_{i=1}^n (x_i - \\bar{x})^2} \\sqrt{\\sum_{i=1}^n (y_i - \\bar{y})^2}}$$"
   ]
  },
  {
   "cell_type": "markdown",
   "metadata": {},
   "source": [
    "#### $$ \\sum_{i=1}^n (x_i - \\bar{x})(y_i - \\bar{y}) = \\sum_{i=1}^n x_i y_i - x_i \\bar{y} - y_i \\bar{x} + \\bar{x} \\bar{y} = \\sum_{i=1}^n x_i y_i - \\bar{x} \\bar{y} = n\\sum_{i=1}^n x_i y_i - \\sum_{i=1}^n x_i \\sum_{i=1}^n y_i $$"
   ]
  },
  {
   "cell_type": "markdown",
   "metadata": {},
   "source": [
    "## $$\\rho_{X,Y} = \\frac{n\\sum_{i=1}^n x_i y_i - \\sum_{i=1}^n x_i \\sum_{i=1}^n y_i}{\\sqrt{n\\sum_{i=1}^n x_i^2 - (\\sum_{i=1}^n x_i)^2} \\sqrt{n\\sum_{i=1}^n y_i^2 - (\\sum_{i=1}^n y_i)^2}} $$"
   ]
  },
  {
   "cell_type": "code",
   "execution_count": 1,
   "metadata": {},
   "outputs": [],
   "source": [
    "import numpy as np\n",
    "import matplotlib.pyplot as plt\n",
    "n = 10\n",
    "x = np.random.rand(n)\n",
    "y = np.random.rand(n)"
   ]
  },
  {
   "cell_type": "code",
   "execution_count": 2,
   "metadata": {},
   "outputs": [],
   "source": [
    "def rho(x,y):\n",
    "    n = np.shape(x)[0]\n",
    "    return ((n*np.sum(x*y) - np.sum(x)*np.sum(y))/ \\\n",
    "            (np.sqrt(n*np.sum(x**2)-np.sum(x)**2)*np.sqrt(n*np.sum(y**2)-np.sum(y)**2)))"
   ]
  },
  {
   "cell_type": "code",
   "execution_count": 3,
   "metadata": {},
   "outputs": [],
   "source": [
    "np.testing.assert_almost_equal(rho(x,y), np.corrcoef(x,y)[0][1])\n",
    "\n",
    "from scipy.stats import pearsonr\n",
    "np.testing.assert_almost_equal(rho(x,y), pearsonr(x,y)[0])"
   ]
  },
  {
   "cell_type": "code",
   "execution_count": 4,
   "metadata": {},
   "outputs": [
    {
     "data": {
      "image/png": "[encoded data removed]",
      "text/plain": [
       "<matplotlib.figure.Figure at 0x7ff83d991e48>"
      ]
     },
     "metadata": {},
     "output_type": "display_data"
    }
   ],
   "source": [
    "plt.plot(x, y ,'bo')\n",
    "plt.plot(np.linspace(0,1,10), rho(x,y)*np.linspace(0,1,10), 'b--')\n",
    "plt.show()"
   ]
  },
  {
   "cell_type": "code",
   "execution_count": null,
   "metadata": {},
   "outputs": [],
   "source": []
  }
 ],
 "metadata": {
  "kernelspec": {
   "display_name": "Python 3",
   "language": "python",
   "name": "python3"
  },
  "language_info": {
   "codemirror_mode": {
    "name": "ipython",
    "version": 3
   },
   "file_extension": ".py",
   "mimetype": "text/x-python",
   "name": "python",
   "nbconvert_exporter": "python",
   "pygments_lexer": "ipython3",
   "version": "3.5.4"
  }
 },
 "nbformat": 4,
 "nbformat_minor": 2
}

{
 "cells": [
  {
   "cell_type": "code",
   "execution_count": 7,
   "metadata": {},
   "outputs": [],
   "source": [
    "import numpy as np\n",
    "from scipy.stats import pearsonr"
   ]
  },
  {
   "cell_type": "markdown",
   "metadata": {},
   "source": [
    "## Multiple correlation coefficient\n",
    "Source: http://www.real-statistics.com/correlation/multiple-correlation/"
   ]
  },
  {
   "cell_type": "markdown",
   "metadata": {},
   "source": [
    "Independent variables: $x, y$ \n",
    "\n",
    "Dependent variables: $z$ \n",
    "\n",
    "$$ R_{z,xy} = \\sqrt{\\frac{r_{xz}^2 + r_{yz}^2 - 2r_{xz}r_{yz}r_{xy}}{1 - r_{xy}^2}}$$\n",
    "\n",
    "where:\n",
    "\n",
    "$$ r_{ij} = \\frac{cov(i,j)}{s_i s_j}$$\n",
    "\n",
    "for: $r_{xz} = r_{yz} = r_{xy} = 1$\n",
    "\n",
    "$$ R = \\sqrt{\\frac{1^2 + 1^2 - 2(1)^3}{1 - (1)^2}} = \\frac{0}{0} \\approx inf \\approx 1$$\n"
   ]
  },
  {
   "cell_type": "code",
   "execution_count": 8,
   "metadata": {},
   "outputs": [],
   "source": [
    "def mcc(x,y,z):\n",
    "    if (pearsonr(x,z)[0]+pearsonr(x,y)[0]+pearsonr(y,z)[0]==3):\n",
    "        return 1\n",
    "    else:\n",
    "        return np.sqrt((pearsonr(x,z)[0]**2 + pearsonr(y,z)[0]**2 - 2*pearsonr(x,z)[0]*pearsonr(y,z)[0]*pearsonr(x,y)[0]\n",
    "                   )/(1 - pearsonr(x,y)[0]**2))"
   ]
  },
  {
   "cell_type": "code",
   "execution_count": 12,
   "metadata": {},
   "outputs": [
    {
     "data": {
      "text/plain": [
       "0.9275734916718676"
      ]
     },
     "execution_count": 12,
     "metadata": {},
     "output_type": "execute_result"
    }
   ],
   "source": [
    "x = np.arange(10) * np.random.uniform(size=(10,))/100\n",
    "y = np.arange(10) * np.random.uniform(size=(10,))/100\n",
    "z = np.arange(10) * np.random.uniform(size=(10,))/100\n",
    "\n",
    "mcc(x,y,z)"
   ]
  },
  {
   "cell_type": "code",
   "execution_count": null,
   "metadata": {},
   "outputs": [],
   "source": []
  },
  {
   "cell_type": "code",
   "execution_count": null,
   "metadata": {},
   "outputs": [],
   "source": []
  }
 ],
 "metadata": {
  "kernelspec": {
   "display_name": "Python 3",
   "language": "python",
   "name": "python3"
  },
  "language_info": {
   "codemirror_mode": {
    "name": "ipython",
    "version": 3
   },
   "file_extension": ".py",
   "mimetype": "text/x-python",
   "name": "python",
   "nbconvert_exporter": "python",
   "pygments_lexer": "ipython3",
   "version": "3.5.2"
  }
 },
 "nbformat": 4,
 "nbformat_minor": 2
}
